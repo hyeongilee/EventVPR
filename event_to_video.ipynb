{
 "cells": [
  {
   "cell_type": "code",
   "execution_count": 2,
   "metadata": {},
   "outputs": [],
   "source": [
    "import os"
   ]
  },
  {
   "cell_type": "code",
   "execution_count": 7,
   "metadata": {},
   "outputs": [
    {
     "data": {
      "text/plain": [
       "0"
      ]
     },
     "execution_count": 7,
     "metadata": {},
     "output_type": "execute_result"
    }
   ],
   "source": [
    "#for i in range(27):\n",
    "os.chdir(\"/home/student1/Downloads/rpg_e2vid/\")\n",
    "os.system(\"nvidia-smi\")\n",
    "#os.system(\"python3 run_reconstruction.py   -c pretrained/E2VID_lightweight.pth.tar   -i /home/student1/hyeongilee/slayerPytorch/example/dataset/KH/clean/raw_txt_10000ms/2020_07_04_11_08_58/1.zip   --auto_hdr   --display   --show_events   --output_folder /home/student1/hyeongilee/slayerPytorch/example/dataset/KH/clean/raw_txt_10000ms/2020_07_04_11_08_58/1_output\")"
   ]
  },
  {
   "cell_type": "code",
   "execution_count": null,
   "metadata": {},
   "outputs": [],
   "source": []
  }
 ],
 "metadata": {
  "kernelspec": {
   "display_name": "Python 3",
   "language": "python",
   "name": "python3"
  },
  "language_info": {
   "codemirror_mode": {
    "name": "ipython",
    "version": 3
   },
   "file_extension": ".py",
   "mimetype": "text/x-python",
   "name": "python",
   "nbconvert_exporter": "python",
   "pygments_lexer": "ipython3",
   "version": "3.7.6"
  }
 },
 "nbformat": 4,
 "nbformat_minor": 4
}
