{
 "cells": [
  {
   "cell_type": "code",
   "execution_count": 1,
   "metadata": {},
   "outputs": [],
   "source": [
    "import numpy as np\n",
    "import random"
   ]
  },
  {
   "cell_type": "code",
   "execution_count": 2,
   "metadata": {},
   "outputs": [],
   "source": [
    "train_env = \"clean\"\n",
    "train_date = \"2020_07_04_11_08_58\"\n",
    "test_env = \"rain\"\n",
    "test_date = \"2020_07_30_17_51_53\"\n",
    "ms = 100\n",
    "aug = [\"0_4\",\"0_5\",\"0_6\",\"0_7\",\"0_8\",\"0_9\",\"1_0\"]\n",
    "\n",
    "train_grid = np.loadtxt(\"../dataset/KH/\"+train_env+\"/raw_numpy_\"+str(ms)+\"ms/\"+train_date+\"_grid_location.txt\")\n",
    "train_grid = train_grid.tolist()\n",
    "train_class = open(\"../dataset/KH/train_test/train.txt\",'w')\n",
    "\n",
    "for n in range(len(aug)):\n",
    "    for [i,cls] in train_grid:\n",
    "        train_file_np = np.load(\"../dataset/KH/\"+train_env+\"/aug_numpy_\"+str(ms)+\"ms/\"+train_date+'/'+aug[n]+'/'+str(int(i))+\".npy\")\n",
    "        train_file = train_file_np.tolist()\n",
    "        it = 1#random.randint(5,9)\n",
    "        for j in range(it):\n",
    "            x_i = random.randint(0,19)\n",
    "            y_i = 0#random.randint(0,39)\n",
    "            x_f = x_i + 300\n",
    "            y_f = y_i + 200\n",
    "            data = list()\n",
    "\n",
    "            for item in train_file:\n",
    "                if (item[0] >= x_i and item[0] < x_f) and (item[1] >= y_i and item[1] < y_f):\n",
    "                    item[0] -= x_i\n",
    "                    item[1] -= y_i\n",
    "                    item[2] = 1\n",
    "                    data.append(item)\n",
    "            np.save(\"../dataset/KH/train_test/\"+str(int(aug[n][0])*10+int(aug[n][2]))+'0'*(4-len(str(int(i))))+str(int(i))+\".npy\",np.array(data))\n",
    "            train_class.write(str(int(aug[n][0])*10+int(aug[n][2]))+'0'*(4-len(str(int(i))))+str(int(i))+\"\\t\"+str(int(cls))+\"\\n\")\n",
    "train_class.close()"
   ]
  },
  {
   "cell_type": "code",
   "execution_count": 3,
   "metadata": {},
   "outputs": [],
   "source": [
    "test_grid = np.loadtxt(\"../dataset/KH/\"+test_env+\"/raw_numpy_\"+str(ms)+\"ms/\"+test_date+\"_grid_location.txt\")\n",
    "test_grid = test_grid.tolist()\n",
    "test_class = open(\"../dataset/KH/train_test/test.txt\",'w')\n",
    "\n",
    "for [i,cls] in test_grid:\n",
    "    test_file_np = np.load(\"../dataset/KH/\"+test_env+\"/raw_numpy_\"+str(ms)+\"ms/\"+test_date+'/'+str(int(i))+\".npy\")\n",
    "    test_file = test_file_np.tolist()\n",
    "    x_i = 10\n",
    "    y_i = 20\n",
    "    x_f = x_i + 300\n",
    "    y_f = y_i + 200\n",
    "    data = list()\n",
    "    \n",
    "    for item in test_file:\n",
    "        if (item[0] >= x_i and item[0] < x_f) and (item[1] >= y_i and item[1] < y_f):\n",
    "            item[0] -= x_i\n",
    "            item[1] -= y_i\n",
    "            item[2] = 1\n",
    "            data.append(item)\n",
    "    np.save(\"../dataset/KH/train_test/\"+'2'+'0'*(4-len(str(int(i))))+str(int(i))+\".npy\",data)\n",
    "    test_class.write('2'+'0'*(4-len(str(int(i))))+str(int(i))+\"\\t\"+str(int(cls))+\"\\n\")\n",
    "test_class.close()"
   ]
  },
  {
   "cell_type": "code",
   "execution_count": null,
   "metadata": {},
   "outputs": [],
   "source": []
  }
 ],
 "metadata": {
  "kernelspec": {
   "display_name": "Python 3",
   "language": "python",
   "name": "python3"
  },
  "language_info": {
   "codemirror_mode": {
    "name": "ipython",
    "version": 3
   },
   "file_extension": ".py",
   "mimetype": "text/x-python",
   "name": "python",
   "nbconvert_exporter": "python",
   "pygments_lexer": "ipython3",
   "version": "3.7.6"
  }
 },
 "nbformat": 4,
 "nbformat_minor": 4
}
