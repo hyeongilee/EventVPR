{
 "cells": [
  {
   "cell_type": "code",
   "execution_count": 1,
   "metadata": {},
   "outputs": [],
   "source": [
    "import numpy as np\n",
    "from dv import AedatFile"
   ]
  },
  {
   "cell_type": "code",
   "execution_count": 2,
   "metadata": {},
   "outputs": [],
   "source": [
    "date = \"2020_07_31_20_23_29\"\n",
    "utm_file = open(\"../dataset/KH/night/utm.txt\",'r')\n",
    "event_file = \"../dataset/KH/night/raw_aedat/\"+date+\".aedat4\"\n",
    "\n",
    "utm = list()\n",
    "while True:\n",
    "    line = utm_file.readline()\n",
    "    if not line:\n",
    "        break\n",
    "    sp_line = line.split()\n",
    "    utm.append([int(sp_line[0]),float(sp_line[1]),float(sp_line[2])])\n",
    "utm_file.close()"
   ]
  },
  {
   "cell_type": "code",
   "execution_count": 3,
   "metadata": {},
   "outputs": [],
   "source": [
    "def find_location(timestamp):\n",
    "    i = 0\n",
    "    while timestamp > utm[i][0]:\n",
    "        i += 1\n",
    "    return utm[i][1], utm[i][2]"
   ]
  },
  {
   "cell_type": "code",
   "execution_count": 4,
   "metadata": {},
   "outputs": [
    {
     "name": "stdout",
     "output_type": "stream",
     "text": [
      "1596019807143153\n"
     ]
    }
   ],
   "source": [
    "with AedatFile(event_file) as f:\n",
    "    events = np.hstack([packet for packet in f['events'].numpy()])\n",
    "    timestamps, x, y, polarities = events['timestamp'], events['x'], events['y'], events['polarity']\n",
    "    \n",
    "ts = timestamps[0]\n",
    "print(ts)\n",
    "\n",
    "idx = 0\n",
    "location_file = open(\"../dataset/KH/clean/raw_numpy_1000ms/\"+date+\"_location.txt\",'w')\n",
    "for t in timestamps:\n",
    "    if t - ts >= 1000000:\n",
    "        ts = t\n",
    "        east, north = find_location(t)\n",
    "        item = str(idx)+' '+str(east)+' '+str(north)+\"\\n\"\n",
    "        location_file.write(item)\n",
    "        idx += 1\n",
    "location_file.close()     "
   ]
  },
  {
   "cell_type": "code",
   "execution_count": null,
   "metadata": {},
   "outputs": [],
   "source": []
  }
 ],
 "metadata": {
  "kernelspec": {
   "display_name": "Python 3",
   "language": "python",
   "name": "python3"
  },
  "language_info": {
   "codemirror_mode": {
    "name": "ipython",
    "version": 3
   },
   "file_extension": ".py",
   "mimetype": "text/x-python",
   "name": "python",
   "nbconvert_exporter": "python",
   "pygments_lexer": "ipython3",
   "version": "3.7.6"
  }
 },
 "nbformat": 4,
 "nbformat_minor": 4
}
