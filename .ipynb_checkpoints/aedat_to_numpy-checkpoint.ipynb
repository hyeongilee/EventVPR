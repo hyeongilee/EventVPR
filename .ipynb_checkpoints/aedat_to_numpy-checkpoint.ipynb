{
 "cells": [
  {
   "cell_type": "code",
   "execution_count": 1,
   "metadata": {},
   "outputs": [],
   "source": [
    "from dv import AedatFile\n",
    "import numpy as np"
   ]
  },
  {
   "cell_type": "code",
   "execution_count": 2,
   "metadata": {
    "scrolled": true
   },
   "outputs": [],
   "source": [
    "env = \"rain\"\n",
    "date = \"2020_07_30_17_51_53\"\n",
    "aedat_file = \"../dataset/KH/\"+env+\"/raw_aedat/\"+date+\".aedat4\"\n",
    "with AedatFile(aedat_file) as f:\n",
    "    events = np.hstack([packet for packet in f['events'].numpy()])\n",
    "    timestamps, x, y, polarities = events['timestamp'], events['x'], events['y'], events['polarity']"
   ]
  },
  {
   "cell_type": "code",
   "execution_count": 3,
   "metadata": {},
   "outputs": [
    {
     "name": "stdout",
     "output_type": "stream",
     "text": [
      "1596018520323096\n"
     ]
    }
   ],
   "source": [
    "print(timestamps[0])"
   ]
  },
  {
   "cell_type": "code",
   "execution_count": null,
   "metadata": {},
   "outputs": [
    {
     "name": "stdout",
     "output_type": "stream",
     "text": [
      "264092429\n",
      "(37081, 4)\n",
      "(38434, 4)\n",
      "(41589, 4)\n",
      "(47558, 4)\n",
      "(52043, 4)\n",
      "(55293, 4)\n",
      "(52303, 4)\n",
      "(53803, 4)\n",
      "(59460, 4)\n",
      "(57889, 4)\n",
      "(60265, 4)\n",
      "(54285, 4)\n",
      "(49815, 4)\n",
      "(50257, 4)\n",
      "(46377, 4)\n",
      "(47202, 4)\n",
      "(47209, 4)\n",
      "(52139, 4)\n",
      "(61740, 4)\n",
      "(57713, 4)\n",
      "(52879, 4)\n",
      "(46172, 4)\n",
      "(53859, 4)\n",
      "(66214, 4)\n",
      "(59545, 4)\n",
      "(68305, 4)\n",
      "(91279, 4)\n",
      "(51677, 4)\n",
      "(65835, 4)\n",
      "(61280, 4)\n",
      "(56150, 4)\n",
      "(61642, 4)\n",
      "(65446, 4)\n",
      "(72389, 4)\n",
      "(91024, 4)\n",
      "(84034, 4)\n",
      "(89407, 4)\n",
      "(115907, 4)\n",
      "(107910, 4)\n",
      "(126592, 4)\n",
      "(159297, 4)\n",
      "(659931, 4)\n",
      "(528057, 4)\n",
      "(151893, 4)\n",
      "(166438, 4)\n",
      "(917519, 4)\n",
      "(231600, 4)\n",
      "(170154, 4)\n",
      "(173755, 4)\n",
      "(211610, 4)\n",
      "(229321, 4)\n",
      "(240014, 4)\n",
      "(212381, 4)\n",
      "(212513, 4)\n",
      "(206138, 4)\n",
      "(184944, 4)\n",
      "(151905, 4)\n",
      "(137446, 4)\n",
      "(101041, 4)\n",
      "(86091, 4)\n",
      "(91336, 4)\n",
      "(91914, 4)\n",
      "(96930, 4)\n",
      "(100380, 4)\n",
      "(102284, 4)\n",
      "(112565, 4)\n",
      "(92246, 4)\n",
      "(99387, 4)\n",
      "(97004, 4)\n",
      "(97396, 4)\n",
      "(90577, 4)\n",
      "(115505, 4)\n",
      "(108509, 4)\n",
      "(95536, 4)\n",
      "(113841, 4)\n",
      "(99633, 4)\n",
      "(93554, 4)\n",
      "(87977, 4)\n",
      "(89151, 4)\n",
      "(86416, 4)\n",
      "(78324, 4)\n",
      "(81017, 4)\n",
      "(75642, 4)\n",
      "(71263, 4)\n",
      "(72907, 4)\n",
      "(71293, 4)\n",
      "(68429, 4)\n",
      "(63916, 4)\n",
      "(60391, 4)\n",
      "(697494, 4)\n",
      "(559749, 4)\n",
      "(79556, 4)\n",
      "(81364, 4)\n",
      "(918486, 4)\n",
      "(191692, 4)\n",
      "(88047, 4)\n",
      "(109696, 4)\n",
      "(120500, 4)\n",
      "(124488, 4)\n",
      "(143928, 4)\n",
      "(166966, 4)\n",
      "(172289, 4)\n",
      "(185316, 4)\n",
      "(207479, 4)\n",
      "(245905, 4)\n",
      "(310456, 4)\n",
      "(344406, 4)\n",
      "(328719, 4)\n",
      "(356683, 4)\n",
      "(373874, 4)\n"
     ]
    }
   ],
   "source": [
    "ts = timestamps[0]\n",
    "N = x.shape[0]\n",
    "print(N)\n",
    "E = list()\n",
    "cnt = 0\n",
    "resize_n = 2\n",
    "ms = 250\n",
    "\n",
    "for i in range(N):\n",
    "    t = timestamps[i]\n",
    "    if t - ts >= 1000*ms:\n",
    "        ts = t\n",
    "        Np = np.array(E)\n",
    "        print(Np.shape)\n",
    "        np.save(\"../dataset/KH/\"+env+\"/raw_numpy_\"+str(ms)+\"ms/\"+date+'/'+str(cnt)+\".npy\",Np)\n",
    "        Np = None\n",
    "        E = list()\n",
    "        cnt += 1\n",
    "    item = [int(x[i]//resize_n), int(y[i]//resize_n), 1, int((t-ts)//ms)]\n",
    "    E.append(item)"
   ]
  },
  {
   "cell_type": "code",
   "execution_count": null,
   "metadata": {},
   "outputs": [],
   "source": []
  }
 ],
 "metadata": {
  "kernelspec": {
   "display_name": "Python 3",
   "language": "python",
   "name": "python3"
  },
  "language_info": {
   "codemirror_mode": {
    "name": "ipython",
    "version": 3
   },
   "file_extension": ".py",
   "mimetype": "text/x-python",
   "name": "python",
   "nbconvert_exporter": "python",
   "pygments_lexer": "ipython3",
   "version": "3.7.6"
  }
 },
 "nbformat": 4,
 "nbformat_minor": 4
}
