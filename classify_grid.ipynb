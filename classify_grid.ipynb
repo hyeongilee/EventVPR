{
 "cells": [
  {
   "cell_type": "code",
   "execution_count": 1,
   "metadata": {},
   "outputs": [],
   "source": [
    "import numpy as np"
   ]
  },
  {
   "cell_type": "code",
   "execution_count": 2,
   "metadata": {},
   "outputs": [
    {
     "name": "stdout",
     "output_type": "stream",
     "text": [
      "[[0.00000000e+00 3.29759308e+05 4.12391454e+06]\n",
      " [1.00000000e+00 3.29759148e+05 4.12391469e+06]\n",
      " [2.00000000e+00 3.29759087e+05 4.12391476e+06]\n",
      " ...\n",
      " [1.08600000e+03 3.29758402e+05 4.12391360e+06]\n",
      " [1.08700000e+03 3.29758445e+05 4.12391357e+06]\n",
      " [1.08800000e+03 3.29758489e+05 4.12391353e+06]]\n"
     ]
    }
   ],
   "source": [
    "#database\n",
    "env_d = \"clean\"\n",
    "date_d = \"2020_07_04_11_08_58\"\n",
    "ms = 250\n",
    "resolution = 40\n",
    "location = np.loadtxt(\"../dataset/KH/\"+env_d+\"/raw_numpy_\"+str(ms)+\"ms/\"+date_d+\"_location.txt\")\n",
    "print(location)\n",
    "N = location.shape[0]"
   ]
  },
  {
   "cell_type": "code",
   "execution_count": 3,
   "metadata": {},
   "outputs": [
    {
     "name": "stdout",
     "output_type": "stream",
     "text": [
      "{0: {1, 4, 5, 6}, 1: {0, 2, 3, 4, 5}, 2: {1, 3, 4}, 3: {1, 2, 4}, 4: {0, 1, 2, 3, 5}, 5: {0, 1, 4, 6}, 6: {0, 8, 5, 7}, 7: {8, 6}, 8: {9, 6, 7}, 9: {8, 10, 11}, 10: {9, 11}, 11: {9, 10, 12, 13, 29}, 12: {29, 11, 13, 14}, 13: {11, 12, 14}, 14: {12, 13, 15}, 15: {16, 14}, 16: {17, 18, 15}, 17: {16, 18}, 18: {16, 17, 19, 20}, 19: {18, 20, 21}, 20: {18, 19, 21}, 21: {19, 20, 22, 23}, 22: {21, 23}, 23: {24, 21, 22}, 24: {25, 23}, 25: {24, 26, 27}, 26: {25, 27, 28}, 27: {25, 26, 28, 29}, 28: {26, 27, 29}, 29: {27, 11, 12, 28}}\n",
      "{(8243, 103097): 0, (8243, 103098): 1, (8243, 103099): 2, (8242, 103099): 3, (8242, 103098): 4, (8242, 103097): 5, (8242, 103096): 6, (8242, 103095): 7, (8241, 103095): 8, (8240, 103095): 9, (8239, 103095): 10, (8239, 103094): 11, (8239, 103093): 12, (8240, 103093): 13, (8240, 103092): 14, (8240, 103091): 15, (8240, 103090): 16, (8240, 103089): 17, (8239, 103089): 18, (8238, 103089): 19, (8238, 103088): 20, (8237, 103088): 21, (8236, 103088): 22, (8236, 103089): 23, (8236, 103090): 24, (8236, 103091): 25, (8236, 103092): 26, (8237, 103092): 27, (8237, 103093): 28, (8238, 103093): 29}\n"
     ]
    }
   ],
   "source": [
    "grid_location = open(\"../dataset/KH/\"+env_d+\"/raw_numpy_\"+str(ms)+\"ms/\"+date_d+\"_grid_location.txt\",'w')\n",
    "neighbor_file = open(\"../dataset/KH/\"+env_d+\"/raw_numpy_\"+str(ms)+\"ms/\"+date_d+\"_neighbor_\"+str(resolution)+\".txt\",'w')\n",
    "\n",
    "D = dict()\n",
    "ND = dict()\n",
    "cnt = 0\n",
    "\n",
    "for i in range(N):\n",
    "    east = int(location[i][1]//resolution)\n",
    "    north = int(location[i][2]//resolution)\n",
    "    if (east,north) in D:\n",
    "        cls = D[(east,north)]\n",
    "    else:\n",
    "        D[(east,north)] = cnt\n",
    "        cls = cnt\n",
    "        cnt += 1\n",
    "        ND[cls] = set()\n",
    "        \n",
    "    if (east+1,north) in D:\n",
    "        ND[D[(east,north)]].add(D[(east+1,north)])\n",
    "        ND[D[(east+1,north)]].add(D[(east,north)])\n",
    "    if (east-1,north) in D:\n",
    "        ND[D[(east,north)]].add(D[(east-1,north)])\n",
    "        ND[D[(east-1,north)]].add(D[(east,north)])\n",
    "    if (east,north+1) in D:\n",
    "        ND[D[(east,north)]].add(D[(east,north+1)])\n",
    "        ND[D[(east,north+1)]].add(D[(east,north)])\n",
    "    if (east,north-1) in D:\n",
    "        ND[D[(east,north)]].add(D[(east,north-1)])\n",
    "        ND[D[(east,north-1)]].add(D[(east,north)])\n",
    "    if (east+1,north+1) in D:\n",
    "        ND[D[(east,north)]].add(D[(east+1,north+1)])\n",
    "        ND[D[(east+1,north+1)]].add(D[(east,north)])\n",
    "    if (east-1,north-1) in D:\n",
    "        ND[D[(east,north)]].add(D[(east-1,north-1)])\n",
    "        ND[D[(east-1,north-1)]].add(D[(east,north)])\n",
    "    if (east-1,north+1) in D:\n",
    "        ND[D[(east,north)]].add(D[(east-1,north+1)])\n",
    "        ND[D[(east-1,north+1)]].add(D[(east,north)])\n",
    "    if (east+1,north-1) in D:\n",
    "        ND[D[(east,north)]].add(D[(east+1,north-1)])\n",
    "        ND[D[(east+1,north-1)]].add(D[(east,north)])\n",
    "    \n",
    "    grid_location.write(str(i)+' '+str(cls)+\"\\n\")\n",
    "for key in ND:\n",
    "    neighbor_file.write(str(key)+\"\\t\")\n",
    "    for item in ND[key]:\n",
    "        neighbor_file.write(str(item)+' ')\n",
    "    neighbor_file.write('\\n')\n",
    "    \n",
    "print(ND)    \n",
    "print(D)\n",
    "grid_location.close()\n",
    "neighbor_file.close()"
   ]
  },
  {
   "cell_type": "code",
   "execution_count": 4,
   "metadata": {},
   "outputs": [
    {
     "name": "stdout",
     "output_type": "stream",
     "text": [
      "[[0.00000000e+00 3.29758190e+05 4.12391776e+06]\n",
      " [1.00000000e+00 3.29758243e+05 4.12391800e+06]\n",
      " [2.00000000e+00 3.29758295e+05 4.12391823e+06]\n",
      " ...\n",
      " [1.00500000e+03 3.29757902e+05 4.12391250e+06]\n",
      " [1.00600000e+03 3.29757863e+05 4.12391294e+06]\n",
      " [1.00700000e+03 3.29757824e+05 4.12391338e+06]]\n"
     ]
    }
   ],
   "source": [
    "#query\n",
    "env_q = \"clean\"\n",
    "date_q = \"2020_07_04_11_16_38\"\n",
    "location_q = np.loadtxt(\"../dataset/KH/\"+env_q+\"/raw_numpy_\"+str(ms)+\"ms/\"+date_q+\"_location.txt\")\n",
    "print(location_q)\n",
    "N_q = location_q.shape[0]"
   ]
  },
  {
   "cell_type": "code",
   "execution_count": 5,
   "metadata": {},
   "outputs": [],
   "source": [
    "grid_location_q = open(\"../dataset/KH/\"+env_q+\"/raw_numpy_\"+str(ms)+\"ms/\"+date_q+\"_grid_location.txt\",'w')\n",
    "for i in range(N_q):\n",
    "    east = int(location_q[i][1]//resolution)\n",
    "    north = int(location_q[i][2]//resolution)\n",
    "    if (east,north) in D:\n",
    "        cls = D[(east,north)]\n",
    "        grid_location_q.write(str(i)+' '+str(cls)+\"\\n\")\n",
    "    \n",
    "grid_location_q.close()"
   ]
  },
  {
   "cell_type": "code",
   "execution_count": 6,
   "metadata": {},
   "outputs": [
    {
     "name": "stdout",
     "output_type": "stream",
     "text": [
      "{(8243, 103097): 0, (8243, 103098): 1, (8243, 103099): 2, (8242, 103099): 3, (8242, 103098): 4, (8242, 103097): 5, (8242, 103096): 6, (8242, 103095): 7, (8241, 103095): 8, (8240, 103095): 9, (8239, 103095): 10, (8239, 103094): 11, (8239, 103093): 12, (8240, 103093): 13, (8240, 103092): 14, (8240, 103091): 15, (8240, 103090): 16, (8240, 103089): 17, (8239, 103089): 18, (8238, 103089): 19, (8238, 103088): 20, (8237, 103088): 21, (8236, 103088): 22, (8236, 103089): 23, (8236, 103090): 24, (8236, 103091): 25, (8236, 103092): 26, (8237, 103092): 27, (8237, 103093): 28, (8238, 103093): 29}\n"
     ]
    }
   ],
   "source": [
    "print(D)"
   ]
  },
  {
   "cell_type": "code",
   "execution_count": null,
   "metadata": {},
   "outputs": [],
   "source": []
  }
 ],
 "metadata": {
  "kernelspec": {
   "display_name": "Python 3",
   "language": "python",
   "name": "python3"
  },
  "language_info": {
   "codemirror_mode": {
    "name": "ipython",
    "version": 3
   },
   "file_extension": ".py",
   "mimetype": "text/x-python",
   "name": "python",
   "nbconvert_exporter": "python",
   "pygments_lexer": "ipython3",
   "version": "3.7.6"
  }
 },
 "nbformat": 4,
 "nbformat_minor": 4
}
