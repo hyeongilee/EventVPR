{
 "cells": [
  {
   "cell_type": "code",
   "execution_count": 3,
   "metadata": {},
   "outputs": [],
   "source": [
    "import numpy as np\n",
    "for i in range(1008):\n",
    "    f = np.load(\"../dataset/KH/clean/raw_numpy_250ms/2020_07_04_11_16_38/\"+str(i)+\".npy\")\n",
    "    _data = f.tolist()\n",
    "    x_i = 10\n",
    "    y_i = 0\n",
    "    x_f = x_i + 140\n",
    "    y_f = y_i + 110\n",
    "    \n",
    "    data = list()\n",
    "    \n",
    "    for item in _data:\n",
    "        if (item[0] >= x_i and item[0] < x_f) and (item[1] >= y_i and item[1] < y_f):\n",
    "            item[0] -= x_i\n",
    "            item[1] -= y_i\n",
    "            data.append(item)\n",
    "    Np = np.array(data)\n",
    "    np.save(\"../dataset/KH/clean/raw_numpy_250ms/test_set/\"+str(i)+\".npy\",Np)"
   ]
  },
  {
   "cell_type": "code",
   "execution_count": null,
   "metadata": {},
   "outputs": [],
   "source": []
  }
 ],
 "metadata": {
  "kernelspec": {
   "display_name": "Python 3",
   "language": "python",
   "name": "python3"
  },
  "language_info": {
   "codemirror_mode": {
    "name": "ipython",
    "version": 3
   },
   "file_extension": ".py",
   "mimetype": "text/x-python",
   "name": "python",
   "nbconvert_exporter": "python",
   "pygments_lexer": "ipython3",
   "version": "3.7.6"
  }
 },
 "nbformat": 4,
 "nbformat_minor": 4
}
