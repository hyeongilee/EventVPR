{
 "cells": [
  {
   "cell_type": "code",
   "execution_count": 1,
   "metadata": {},
   "outputs": [],
   "source": [
    "import sys, os\n",
    "CURRENT_TEST_DIR = os.getcwd()\n",
    "sys.path.append(CURRENT_TEST_DIR + \"/../../src\")"
   ]
  },
  {
   "cell_type": "code",
   "execution_count": 2,
   "metadata": {},
   "outputs": [],
   "source": [
    "from datetime import datetime\n",
    "import numpy as np\n",
    "import matplotlib.pyplot as plt\n",
    "import torch\n",
    "from torch.utils.data import Dataset, DataLoader\n",
    "import slayerSNN as snn\n",
    "from learningStats import learningStats\n",
    "from IPython.display import HTML\n",
    "import zipfile"
   ]
  },
  {
   "cell_type": "code",
   "execution_count": 3,
   "metadata": {},
   "outputs": [],
   "source": [
    "netParams = snn.params('network.yaml')"
   ]
  },
  {
   "cell_type": "code",
   "execution_count": 4,
   "metadata": {},
   "outputs": [],
   "source": [
    "# Dataset definition\n",
    "class nmnistDataset(Dataset):\n",
    "    def __init__(self, datasetPath, sampleFile, samplingTime, sampleLength):\n",
    "        self.path = datasetPath \n",
    "        self.samples = np.loadtxt(sampleFile).astype('int')\n",
    "        self.samplingTime = samplingTime\n",
    "        self.nTimeBins    = int(sampleLength / samplingTime)\n",
    "\n",
    "    def __getitem__(self, index):\n",
    "        inputIndex  = self.samples[index, 0]\n",
    "        classLabel  = self.samples[index, 1]\n",
    "\n",
    "        inputSpikes = snn.io.readNpSpikes(\n",
    "                        self.path + str(inputIndex.item()) + '.npy'\n",
    "                        ).toSpikeTensor(torch.zeros((2,300,200,self.nTimeBins)),\n",
    "                        samplingTime=self.samplingTime)\n",
    "        desiredClass = torch.zeros((2, 1, 1, 1))\n",
    "        desiredClass[classLabel,...] = 1\n",
    "        print(str(inputIndex.item()))\n",
    "        return inputSpikes, desiredClass, classLabel\n",
    "\n",
    "    def __len__(self):\n",
    "        return self.samples.shape[0]"
   ]
  },
  {
   "cell_type": "code",
   "execution_count": 5,
   "metadata": {},
   "outputs": [],
   "source": [
    "class Network(torch.nn.Module):\n",
    "    def __init__(self, netParams):\n",
    "        super(Network, self).__init__()\n",
    "        # initialize slayer\n",
    "        slayer = snn.layer(netParams['neuron'], netParams['simulation'])\n",
    "        self.slayer = slayer\n",
    "        # define network functions\n",
    "        self.conv1 = slayer.conv(1, 8, 4, stride=2, padding=1)\n",
    "        self.conv2 = slayer.conv(8, 16, 4, stride=2, padding=1)\n",
    "        self.conv3 = slayer.conv(16, 32, 4, stride=2, padding=1)\n",
    "        self.pool1 = slayer.pool(2)\n",
    "        self.pool2 = slayer.pool(2)\n",
    "        self.fc1   = slayer.dense((4, 5, 32), 2)\n",
    "\n",
    "    def forward(self, spikeInput):\n",
    "        spikeLayer1 = self.slayer.spike(self.conv1(self.slayer.psp(spikeInput ))) # 32, 32, 16\n",
    "        spikeLayer2 = self.slayer.spike(self.pool1(self.slayer.psp(spikeLayer1))) # 16, 16, 16\n",
    "        spikeLayer3 = self.slayer.spike(self.conv2(self.slayer.psp(spikeLayer2))) # 16, 16, 32\n",
    "        spikeLayer4 = self.slayer.spike(self.pool2(self.slayer.psp(spikeLayer3))) #  8,  8, 32\n",
    "        spikeLayer5 = self.slayer.spike(self.conv3(self.slayer.psp(spikeLayer4))) #  8,  8, 64\n",
    "        spikeOut    = self.slayer.spike(self.fc1  (self.slayer.psp(spikeLayer5))) #  10\n",
    "\n",
    "        return spikeOut"
   ]
  },
  {
   "cell_type": "code",
   "execution_count": 6,
   "metadata": {},
   "outputs": [
    {
     "ename": "FileNotFoundError",
     "evalue": "[Errno 2] No such file or directory: '/media/student1/770a08ae-0a7d-4b62-bbf4-b81fdd9baf2a/train_dataset_100ms_aug_3/train.txt'",
     "output_type": "error",
     "traceback": [
      "\u001b[0;31m---------------------------------------------------------------------------\u001b[0m",
      "\u001b[0;31mFileNotFoundError\u001b[0m                         Traceback (most recent call last)",
      "\u001b[0;32m<ipython-input-6-71e9a6894c24>\u001b[0m in \u001b[0;36m<module>\u001b[0;34m\u001b[0m\n\u001b[1;32m     20\u001b[0m                             \u001b[0msampleFile\u001b[0m  \u001b[0;34m=\u001b[0m\u001b[0;34m\"/media/student1/770a08ae-0a7d-4b62-bbf4-b81fdd9baf2a/train_dataset_100ms_aug_3/train.txt\"\u001b[0m\u001b[0;34m,\u001b[0m\u001b[0;31m#\"/home/student1/hyeongilee/slayerPytorch/example/dataset/KH/rain/raw_numpy_100ms/2020_07_30_18_20_29/temp.txt\",\u001b[0m\u001b[0;34m\u001b[0m\u001b[0m\n\u001b[1;32m     21\u001b[0m                             \u001b[0msamplingTime\u001b[0m\u001b[0;34m=\u001b[0m\u001b[0mnetParams\u001b[0m\u001b[0;34m[\u001b[0m\u001b[0;34m'simulation'\u001b[0m\u001b[0;34m]\u001b[0m\u001b[0;34m[\u001b[0m\u001b[0;34m'Ts'\u001b[0m\u001b[0;34m]\u001b[0m\u001b[0;34m,\u001b[0m\u001b[0;34m\u001b[0m\u001b[0m\n\u001b[0;32m---> 22\u001b[0;31m                             sampleLength=netParams['simulation']['tSample'])\n\u001b[0m\u001b[1;32m     23\u001b[0m \u001b[0mtrainLoader\u001b[0m \u001b[0;34m=\u001b[0m \u001b[0mDataLoader\u001b[0m\u001b[0;34m(\u001b[0m\u001b[0mdataset\u001b[0m\u001b[0;34m=\u001b[0m\u001b[0mtrainingSet\u001b[0m\u001b[0;34m,\u001b[0m \u001b[0mbatch_size\u001b[0m\u001b[0;34m=\u001b[0m\u001b[0;36m3\u001b[0m\u001b[0;34m,\u001b[0m \u001b[0mshuffle\u001b[0m\u001b[0;34m=\u001b[0m\u001b[0;32mFalse\u001b[0m\u001b[0;34m,\u001b[0m \u001b[0mnum_workers\u001b[0m\u001b[0;34m=\u001b[0m\u001b[0;36m2\u001b[0m\u001b[0;34m)\u001b[0m\u001b[0;34m\u001b[0m\u001b[0m\n\u001b[1;32m     24\u001b[0m trainingSet2 = nmnistDataset(datasetPath =\"/media/student1/770a08ae-0a7d-4b62-bbf4-b81fdd9baf2a/train_dataset_100ms_aug_3/\", \n",
      "\u001b[0;32m<ipython-input-4-99f903d80f1e>\u001b[0m in \u001b[0;36m__init__\u001b[0;34m(self, datasetPath, sampleFile, samplingTime, sampleLength)\u001b[0m\n\u001b[1;32m      3\u001b[0m     \u001b[0;32mdef\u001b[0m \u001b[0m__init__\u001b[0m\u001b[0;34m(\u001b[0m\u001b[0mself\u001b[0m\u001b[0;34m,\u001b[0m \u001b[0mdatasetPath\u001b[0m\u001b[0;34m,\u001b[0m \u001b[0msampleFile\u001b[0m\u001b[0;34m,\u001b[0m \u001b[0msamplingTime\u001b[0m\u001b[0;34m,\u001b[0m \u001b[0msampleLength\u001b[0m\u001b[0;34m)\u001b[0m\u001b[0;34m:\u001b[0m\u001b[0;34m\u001b[0m\u001b[0m\n\u001b[1;32m      4\u001b[0m         \u001b[0mself\u001b[0m\u001b[0;34m.\u001b[0m\u001b[0mpath\u001b[0m \u001b[0;34m=\u001b[0m \u001b[0mdatasetPath\u001b[0m\u001b[0;34m\u001b[0m\u001b[0m\n\u001b[0;32m----> 5\u001b[0;31m         \u001b[0mself\u001b[0m\u001b[0;34m.\u001b[0m\u001b[0msamples\u001b[0m \u001b[0;34m=\u001b[0m \u001b[0mnp\u001b[0m\u001b[0;34m.\u001b[0m\u001b[0mloadtxt\u001b[0m\u001b[0;34m(\u001b[0m\u001b[0msampleFile\u001b[0m\u001b[0;34m)\u001b[0m\u001b[0;34m.\u001b[0m\u001b[0mastype\u001b[0m\u001b[0;34m(\u001b[0m\u001b[0;34m'int'\u001b[0m\u001b[0;34m)\u001b[0m\u001b[0;34m\u001b[0m\u001b[0m\n\u001b[0m\u001b[1;32m      6\u001b[0m         \u001b[0mself\u001b[0m\u001b[0;34m.\u001b[0m\u001b[0msamplingTime\u001b[0m \u001b[0;34m=\u001b[0m \u001b[0msamplingTime\u001b[0m\u001b[0;34m\u001b[0m\u001b[0m\n\u001b[1;32m      7\u001b[0m         \u001b[0mself\u001b[0m\u001b[0;34m.\u001b[0m\u001b[0mnTimeBins\u001b[0m    \u001b[0;34m=\u001b[0m \u001b[0mint\u001b[0m\u001b[0;34m(\u001b[0m\u001b[0msampleLength\u001b[0m \u001b[0;34m/\u001b[0m \u001b[0msamplingTime\u001b[0m\u001b[0;34m)\u001b[0m\u001b[0;34m\u001b[0m\u001b[0m\n",
      "\u001b[0;32m/usr/lib/python3/dist-packages/numpy/lib/npyio.py\u001b[0m in \u001b[0;36mloadtxt\u001b[0;34m(fname, dtype, comments, delimiter, converters, skiprows, usecols, unpack, ndmin)\u001b[0m\n\u001b[1;32m    803\u001b[0m                 \u001b[0mfh\u001b[0m \u001b[0;34m=\u001b[0m \u001b[0miter\u001b[0m\u001b[0;34m(\u001b[0m\u001b[0mopen\u001b[0m\u001b[0;34m(\u001b[0m\u001b[0mfname\u001b[0m\u001b[0;34m,\u001b[0m \u001b[0;34m'U'\u001b[0m\u001b[0;34m)\u001b[0m\u001b[0;34m)\u001b[0m\u001b[0;34m\u001b[0m\u001b[0m\n\u001b[1;32m    804\u001b[0m             \u001b[0;32melse\u001b[0m\u001b[0;34m:\u001b[0m\u001b[0;34m\u001b[0m\u001b[0m\n\u001b[0;32m--> 805\u001b[0;31m                 \u001b[0mfh\u001b[0m \u001b[0;34m=\u001b[0m \u001b[0miter\u001b[0m\u001b[0;34m(\u001b[0m\u001b[0mopen\u001b[0m\u001b[0;34m(\u001b[0m\u001b[0mfname\u001b[0m\u001b[0;34m)\u001b[0m\u001b[0;34m)\u001b[0m\u001b[0;34m\u001b[0m\u001b[0m\n\u001b[0m\u001b[1;32m    806\u001b[0m         \u001b[0;32melse\u001b[0m\u001b[0;34m:\u001b[0m\u001b[0;34m\u001b[0m\u001b[0m\n\u001b[1;32m    807\u001b[0m             \u001b[0mfh\u001b[0m \u001b[0;34m=\u001b[0m \u001b[0miter\u001b[0m\u001b[0;34m(\u001b[0m\u001b[0mfname\u001b[0m\u001b[0;34m)\u001b[0m\u001b[0;34m\u001b[0m\u001b[0m\n",
      "\u001b[0;31mFileNotFoundError\u001b[0m: [Errno 2] No such file or directory: '/media/student1/770a08ae-0a7d-4b62-bbf4-b81fdd9baf2a/train_dataset_100ms_aug_3/train.txt'"
     ]
    }
   ],
   "source": [
    "# Define the cuda device to run the code on.\n",
    "# device = torch.device('cuda')\n",
    "# Use multiple GPU's if available\n",
    "device = torch.device('cuda:0') # should be the first GPU of deviceIDs\n",
    "deviceIds = [0, 1]\n",
    "\n",
    "# Create network instance.\n",
    "# net = Network(netParams).to(device)\n",
    "# Split the network to run over multiple GPUs\n",
    "net = torch.nn.DataParallel(Network(netParams).to(device), device_ids=deviceIds)\n",
    "\n",
    "# Create snn loss instance.\n",
    "error = snn.loss(netParams).to(device)\n",
    "\n",
    "# Define optimizer module.\n",
    "optimizer = torch.optim.Adam(net.parameters(), lr = 0.01, amsgrad = True)\n",
    "    \n",
    "# Dataset and dataLoader instances.\n",
    "trainingSet = nmnistDataset(datasetPath =\"/media/student1/770a08ae-0a7d-4b62-bbf4-b81fdd9baf2a/train_dataset_100ms_aug_3/\",#\"/home/student1/hyeongilee/slayerPytorch/example/dataset/KH/rain/raw_numpy_100ms/2020_07_30_18_20_29/\", \n",
    "                            sampleFile  =\"/media/student1/770a08ae-0a7d-4b62-bbf4-b81fdd9baf2a/train_dataset_100ms_aug_3/train.txt\",#\"/home/student1/hyeongilee/slayerPytorch/example/dataset/KH/rain/raw_numpy_100ms/2020_07_30_18_20_29/temp.txt\",\n",
    "                            samplingTime=netParams['simulation']['Ts'],\n",
    "                            sampleLength=netParams['simulation']['tSample'])\n",
    "trainLoader = DataLoader(dataset=trainingSet, batch_size=3, shuffle=False, num_workers=2)\n",
    "trainingSet2 = nmnistDataset(datasetPath =\"/media/student1/770a08ae-0a7d-4b62-bbf4-b81fdd9baf2a/train_dataset_100ms_aug_3/\", \n",
    "                            sampleFile  =\"/media/student1/770a08ae-0a7d-4b62-bbf4-b81fdd9baf2a/train_dataset_100ms_aug_3/test.txt\",\n",
    "                            samplingTime=netParams['simulation']['Ts'],\n",
    "                            sampleLength=netParams['simulation']['tSample'])\n",
    "trainLoader2 = DataLoader(dataset=trainingSet, batch_size=3, shuffle=False, num_workers=2)\n",
    "trainingSet3 = nmnistDataset(datasetPath =\"/home/student1/hyeongilee/slayerPytorch/example/dataset/KH/clean/aug_numpy_100ms/2020_07_04_11_08_58/0_5/\", \n",
    "                            sampleFile  =\"/home/student1/Downloads/dummy.txt\",\n",
    "                            samplingTime=netParams['simulation']['Ts'],\n",
    "                            sampleLength=netParams['simulation']['tSample'])\n",
    "trainLoader3 = DataLoader(dataset=trainingSet, batch_size=3, shuffle=False, num_workers=2)\n",
    "\n",
    "\n",
    "# Learning stats instance.\n",
    "stats = learningStats()#72553 8001 5277"
   ]
  },
  {
   "cell_type": "code",
   "execution_count": null,
   "metadata": {},
   "outputs": [],
   "source": [
    "input, target, label = trainingSet[310]\n",
    "print(label)\n",
    "print(input.shape)\n",
    "print(type(input))\n",
    "anim = snn.io.animTD(snn.io.spikeArrayToEvent(input.reshape((2, 300, 200, -1)).cpu().data.numpy()))\n",
    "HTML(anim.to_jshtml())"
   ]
  },
  {
   "cell_type": "code",
   "execution_count": null,
   "metadata": {},
   "outputs": [],
   "source": [
    "input, target, label = trainingSet2[1128]\n",
    "print(input.shape)\n",
    "print(label)\n",
    "anim = snn.io.animTD(snn.io.spikeArrayToEvent(input.reshape((2, 300, 200, -1)).cpu().data.numpy()))\n",
    "HTML(anim.to_jshtml())"
   ]
  },
  {
   "cell_type": "code",
   "execution_count": null,
   "metadata": {},
   "outputs": [],
   "source": [
    "input, target, label = trainingSet3[500]\n",
    "print(target)\n",
    "print(label)\n",
    "print(input.shape)\n",
    "print(type(input))\n",
    "anim = snn.io.animTD(snn.io.spikeArrayToEvent(input.reshape((2, 320, 320, -1)).cpu().data.numpy()))\n",
    "HTML(anim.to_jshtml())"
   ]
  },
  {
   "cell_type": "code",
   "execution_count": null,
   "metadata": {},
   "outputs": [],
   "source": []
  }
 ],
 "metadata": {
  "kernelspec": {
   "display_name": "Python 3",
   "language": "python",
   "name": "python3"
  },
  "language_info": {
   "codemirror_mode": {
    "name": "ipython",
    "version": 3
   },
   "file_extension": ".py",
   "mimetype": "text/x-python",
   "name": "python",
   "nbconvert_exporter": "python",
   "pygments_lexer": "ipython3",
   "version": "3.5.2"
  }
 },
 "nbformat": 4,
 "nbformat_minor": 4
}
